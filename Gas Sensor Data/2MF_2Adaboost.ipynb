{
 "cells": [
  {
   "cell_type": "code",
   "execution_count": 4,
   "metadata": {},
   "outputs": [
    {
     "name": "stdout",
     "output_type": "stream",
     "text": [
      "         0    1\n",
      "0      186  204\n",
      "1      186  204\n",
      "2      185  203\n",
      "3      186  204\n",
      "4      186  204\n",
      "...    ...  ...\n",
      "30383  181  180\n",
      "30384  179  180\n",
      "30385  178  180\n",
      "30386  180  179\n",
      "30387  181  180\n",
      "\n",
      "[30388 rows x 2 columns]\n",
      "       0\n",
      "0      0\n",
      "1      0\n",
      "2      0\n",
      "3      0\n",
      "4      0\n",
      "...   ..\n",
      "30383  0\n",
      "30384  0\n",
      "30385  0\n",
      "30386  0\n",
      "30387  0\n",
      "\n",
      "[30388 rows x 1 columns]\n",
      "(24310, 2)\n",
      "(24310, 1)\n"
     ]
    }
   ],
   "source": [
    "import numpy as np\n",
    "import matplotlib\n",
    "import pandas as pd\n",
    "from sklearn.model_selection import train_test_split\n",
    "\n",
    "\n",
    "dataset = pd.read_csv('/Users/eddie/Downloads/METEC Tests - Sheet3.csv')\n",
    "\n",
    "X = pd.DataFrame(dataset.iloc[:,:2].values)\n",
    "Y = pd.DataFrame(dataset.iloc[:,2:].values)\n",
    "print(X)\n",
    "print(Y)\n",
    "X_train, X_test, Y_train, Y_test = train_test_split(X, Y, test_size=0.2, random_state=42)\n",
    "from sklearn.preprocessing import MinMaxScaler\n",
    "scaler = MinMaxScaler()\n",
    "X_train = scaler.fit_transform(X_train)\n",
    "X_test = scaler.transform(X_test)\n",
    "\n",
    "print(X_train.shape)\n",
    "print(Y_train.shape)"
   ]
  },
  {
   "cell_type": "code",
   "execution_count": 5,
   "metadata": {},
   "outputs": [],
   "source": [
    "from deepforest import CascadeForestClassifier\n",
    "#load the base DFC model\n",
    "model = CascadeForestClassifier()\n",
    "\n",
    "from sklearn.ensemble import AdaBoostClassifier\n",
    "from sklearn.ensemble import RandomForestClassifier\n",
    "\n",
    "#using the Adaboost and RF testing combination\n",
    "estimator1 = AdaBoostClassifier(n_estimators = 100)\n",
    "estimator2 = RandomForestClassifier(n_estimators = 100)\n",
    "\n",
    "#load the different base layers into the model \n",
    "n_estimators = 2  # the number of base estimators per cascade layer\n",
    "estimators = [AdaBoostClassifier(random_state = 1), AdaBoostClassifier(random_state=2), RandomForestClassifier(random_state=3),RandomForestClassifier(random_state = 4)]\n",
    "\n",
    "model.set_estimator(estimators)\n"
   ]
  },
  {
   "cell_type": "code",
   "execution_count": 6,
   "metadata": {},
   "outputs": [
    {
     "name": "stdout",
     "output_type": "stream",
     "text": [
      "[2025-03-26 06:51:51.343] Start to fit the model:\n",
      "[2025-03-26 06:51:51.343] Fitting cascade layer = 0 \n"
     ]
    },
    {
     "name": "stderr",
     "output_type": "stream",
     "text": [
      "c:\\Users\\eddie\\anaconda3\\envs\\ModifiedDFC\\lib\\site-packages\\sklearn\\utils\\validation.py:63: DataConversionWarning: A column-vector y was passed when a 1d array was expected. Please change the shape of y to (n_samples, ), for example using ravel().\n",
      "  return f(*args, **kwargs)\n"
     ]
    },
    {
     "name": "stdout",
     "output_type": "stream",
     "text": [
      "[2025-03-26 06:51:56.966] layer = 0  | Val Acc = 91.403 % | Elapsed = 5.623 s\n",
      "[2025-03-26 06:51:56.983] Fitting cascade layer = 1 \n",
      "[2025-03-26 06:52:09.395] layer = 1  | Val Acc = 89.605 % | Elapsed = 12.412 s\n",
      "[2025-03-26 06:52:09.395] Early stopping counter: 1 out of 2\n",
      "[2025-03-26 06:52:09.402] Fitting cascade layer = 2 \n",
      "[2025-03-26 06:52:22.902] layer = 2  | Val Acc = 90.930 % | Elapsed = 13.499 s\n",
      "[2025-03-26 06:52:22.902] Early stopping counter: 2 out of 2\n",
      "[2025-03-26 06:52:22.902] Handling early stopping\n",
      "[2025-03-26 06:52:22.944] The optimal number of layers: 1\n"
     ]
    }
   ],
   "source": [
    "model.fit(X_train, Y_train)"
   ]
  },
  {
   "cell_type": "code",
   "execution_count": 7,
   "metadata": {},
   "outputs": [
    {
     "name": "stdout",
     "output_type": "stream",
     "text": [
      "[2025-03-26 06:52:22.988] Start to evalute the model:\n",
      "[2025-03-26 06:52:22.988] Evaluating cascade layer = 0 \n",
      "[0 0 1 ... 1 0 0]\n",
      "0.9157617637380717\n",
      "              precision    recall  f1-score   support\n",
      "\n",
      "           0   0.872093  0.994988  0.929496      3392\n",
      "           1   0.992301  0.815711  0.895382      2686\n",
      "\n",
      "    accuracy                       0.915762      6078\n",
      "   macro avg   0.932197  0.905350  0.912439      6078\n",
      "weighted avg   0.925215  0.915762  0.914420      6078\n",
      "\n"
     ]
    }
   ],
   "source": [
    "res = model.predict(X_test)\n",
    "print(res)\n",
    "# print(Y_test)\n",
    "from sklearn.metrics import accuracy_score\n",
    "accuracy = accuracy_score(Y_test,res)\n",
    "print(accuracy)\n",
    "from sklearn.metrics import classification_report\n",
    "print(classification_report(Y_test,res,digits=6))"
   ]
  },
  {
   "cell_type": "code",
   "execution_count": 8,
   "metadata": {},
   "outputs": [
    {
     "data": {
      "text/plain": [
       "<sklearn.metrics._plot.confusion_matrix.ConfusionMatrixDisplay at 0x23a1b054358>"
      ]
     },
     "execution_count": 8,
     "metadata": {},
     "output_type": "execute_result"
    },
    {
     "data": {
      "image/png": "[encoded data removed]",
      "text/plain": [
       "<Figure size 432x288 with 2 Axes>"
      ]
     },
     "metadata": {
      "needs_background": "light"
     },
     "output_type": "display_data"
    }
   ],
   "source": [
    "from sklearn.metrics import confusion_matrix\n",
    "from sklearn.metrics import ConfusionMatrixDisplay\n",
    "confusionmatrix = confusion_matrix(Y_test, res)\n",
    "cm_display = ConfusionMatrixDisplay(confusionmatrix)\n",
    "cm_display.plot()"
   ]
  }
 ],
 "metadata": {
  "kernelspec": {
   "display_name": "ModifiedDFC",
   "language": "python",
   "name": "python3"
  },
  "language_info": {
   "codemirror_mode": {
    "name": "ipython",
    "version": 3
   },
   "file_extension": ".py",
   "mimetype": "text/x-python",
   "name": "python",
   "nbconvert_exporter": "python",
   "pygments_lexer": "ipython3",
   "version": "3.6.13"
  }
 },
 "nbformat": 4,
 "nbformat_minor": 2
}
