{
 "cells": [
  {
   "cell_type": "code",
   "execution_count": 9,
   "metadata": {},
   "outputs": [
    {
     "name": "stdout",
     "output_type": "stream",
     "text": [
      "         0    1\n",
      "0      186  204\n",
      "1      186  204\n",
      "2      185  203\n",
      "3      186  204\n",
      "4      186  204\n",
      "...    ...  ...\n",
      "30383  181  180\n",
      "30384  179  180\n",
      "30385  178  180\n",
      "30386  180  179\n",
      "30387  181  180\n",
      "\n",
      "[30388 rows x 2 columns]\n",
      "       0\n",
      "0      0\n",
      "1      0\n",
      "2      0\n",
      "3      0\n",
      "4      0\n",
      "...   ..\n",
      "30383  0\n",
      "30384  0\n",
      "30385  0\n",
      "30386  0\n",
      "30387  0\n",
      "\n",
      "[30388 rows x 1 columns]\n",
      "(24310, 2)\n",
      "(24310, 1)\n"
     ]
    }
   ],
   "source": [
    "import numpy as np\n",
    "import matplotlib\n",
    "import pandas as pd\n",
    "from sklearn.model_selection import train_test_split\n",
    "\n",
    "\n",
    "dataset = pd.read_csv('/Users/eddie/Downloads/METEC Tests - Sheet3.csv')\n",
    "\n",
    "X = pd.DataFrame(dataset.iloc[:,:2].values)\n",
    "Y = pd.DataFrame(dataset.iloc[:,2:].values)\n",
    "print(X)\n",
    "print(Y)\n",
    "X_train, X_test, Y_train, Y_test = train_test_split(X, Y, test_size=0.2, random_state=42)\n",
    "from sklearn.preprocessing import MinMaxScaler\n",
    "scaler = MinMaxScaler()\n",
    "X_train = scaler.fit_transform(X_train)\n",
    "X_test = scaler.transform(X_test)\n",
    "\n",
    "print(X_train.shape)\n",
    "print(Y_train.shape)"
   ]
  },
  {
   "cell_type": "code",
   "execution_count": 10,
   "metadata": {},
   "outputs": [],
   "source": [
    "from deepforest import CascadeForestClassifier\n",
    "model = CascadeForestClassifier()\n",
    "from sklearn.ensemble import AdaBoostClassifier\n",
    "from mondrianforest import MondrianForestClassifier\n",
    "\n",
    "#using the Adaboost and CRF testing combination\n",
    "estimator1 = AdaBoostClassifier(n_estimators = 100)\n",
    "estimator2 = MondrianForestClassifier(n_tree = 1)\n",
    "\n",
    "#load the different base layers into the model \n",
    "n_estimators = 2  # the number of base estimators per cascade layer\n",
    "estimators = [AdaBoostClassifier(n_estimators= 10, random_state = 1), AdaBoostClassifier(n_estimators = 10, random_state=2), estimator2, estimator2]\n",
    "\n",
    "model.set_estimator(estimators)"
   ]
  },
  {
   "cell_type": "code",
   "execution_count": 11,
   "metadata": {},
   "outputs": [
    {
     "name": "stdout",
     "output_type": "stream",
     "text": [
      "[2025-03-22 21:46:08.907] Start to fit the model:\n",
      "[2025-03-22 21:46:08.907] Fitting cascade layer = 0 \n"
     ]
    },
    {
     "name": "stderr",
     "output_type": "stream",
     "text": [
      "c:\\Users\\eddie\\anaconda3\\envs\\ModifiedDFC\\lib\\site-packages\\sklearn\\utils\\validation.py:63: DataConversionWarning: A column-vector y was passed when a 1d array was expected. Please change the shape of y to (n_samples, ), for example using ravel().\n",
      "  return f(*args, **kwargs)\n",
      "c:\\Users\\eddie\\anaconda3\\envs\\ModifiedDFC\\lib\\site-packages\\mondrianforest\\classifier.py:76: RuntimeWarning: invalid value encountered in double_scalars\n",
      "  res[label] /= sum_prob\n"
     ]
    },
    {
     "name": "stdout",
     "output_type": "stream",
     "text": [
      "[2025-03-22 21:51:18.085] layer = 0  | Val Acc = 88.334 % | Elapsed = 309.177 s\n",
      "[2025-03-22 21:51:18.111] Fitting cascade layer = 1 \n",
      "[2025-03-22 21:55:03.303] layer = 1  | Val Acc = 88.885 % | Elapsed = 225.192 s\n",
      "[2025-03-22 21:55:03.323] Fitting cascade layer = 2 \n",
      "[2025-03-22 21:57:40.694] layer = 2  | Val Acc = 87.939 % | Elapsed = 157.371 s\n",
      "[2025-03-22 21:57:40.694] Early stopping counter: 1 out of 2\n",
      "[2025-03-22 21:57:40.743] Fitting cascade layer = 3 \n",
      "[2025-03-22 21:59:57.277] layer = 3  | Val Acc = 88.622 % | Elapsed = 136.535 s\n",
      "[2025-03-22 21:59:57.277] Early stopping counter: 2 out of 2\n",
      "[2025-03-22 21:59:57.277] Handling early stopping\n",
      "[2025-03-22 21:59:57.277] The optimal number of layers: 2\n"
     ]
    }
   ],
   "source": [
    "model.fit(X_train, Y_train)"
   ]
  },
  {
   "cell_type": "code",
   "execution_count": 12,
   "metadata": {},
   "outputs": [
    {
     "name": "stdout",
     "output_type": "stream",
     "text": [
      "[2025-03-22 21:59:57.296] Start to evalute the model:\n",
      "[2025-03-22 21:59:57.298] Evaluating cascade layer = 0 \n"
     ]
    },
    {
     "name": "stderr",
     "output_type": "stream",
     "text": [
      "c:\\Users\\eddie\\anaconda3\\envs\\ModifiedDFC\\lib\\site-packages\\mondrianforest\\classifier.py:76: RuntimeWarning: invalid value encountered in double_scalars\n",
      "  res[label] /= sum_prob\n"
     ]
    },
    {
     "name": "stdout",
     "output_type": "stream",
     "text": [
      "[2025-03-22 22:01:05.186] Evaluating cascade layer = 1 \n",
      "[0 0 1 ... 1 0 0]\n",
      "0.9170779861796644\n",
      "              precision    recall  f1-score   support\n",
      "\n",
      "           0   0.870637  1.000000  0.930845      3392\n",
      "           1   1.000000  0.812360  0.896467      2686\n",
      "\n",
      "    accuracy                       0.917078      6078\n",
      "   macro avg   0.935318  0.906180  0.913656      6078\n",
      "weighted avg   0.927805  0.917078  0.915653      6078\n",
      "\n"
     ]
    }
   ],
   "source": [
    "res = model.predict(X_test)\n",
    "print(res)\n",
    "# print(Y_test)\n",
    "from sklearn.metrics import accuracy_score\n",
    "accuracy = accuracy_score(Y_test,res)\n",
    "print(accuracy)\n",
    "from sklearn.metrics import classification_report\n",
    "print(classification_report(Y_test,res,digits=6))"
   ]
  },
  {
   "cell_type": "code",
   "execution_count": 13,
   "metadata": {},
   "outputs": [
    {
     "data": {
      "text/plain": [
       "<sklearn.metrics._plot.confusion_matrix.ConfusionMatrixDisplay at 0x1c6320be2e8>"
      ]
     },
     "execution_count": 13,
     "metadata": {},
     "output_type": "execute_result"
    },
    {
     "data": {
      "image/png": "[encoded data removed]",
      "text/plain": [
       "<Figure size 432x288 with 2 Axes>"
      ]
     },
     "metadata": {
      "needs_background": "light"
     },
     "output_type": "display_data"
    }
   ],
   "source": [
    "from sklearn.metrics import confusion_matrix\n",
    "from sklearn.metrics import ConfusionMatrixDisplay\n",
    "confusionmatrix = confusion_matrix(Y_test, res)\n",
    "cm_display = ConfusionMatrixDisplay(confusionmatrix)\n",
    "cm_display.plot()"
   ]
  }
 ],
 "metadata": {
  "kernelspec": {
   "display_name": "ModifiedDFC",
   "language": "python",
   "name": "python3"
  },
  "language_info": {
   "codemirror_mode": {
    "name": "ipython",
    "version": 3
   },
   "file_extension": ".py",
   "mimetype": "text/x-python",
   "name": "python",
   "nbconvert_exporter": "python",
   "pygments_lexer": "ipython3",
   "version": "3.6.13"
  }
 },
 "nbformat": 4,
 "nbformat_minor": 2
}
