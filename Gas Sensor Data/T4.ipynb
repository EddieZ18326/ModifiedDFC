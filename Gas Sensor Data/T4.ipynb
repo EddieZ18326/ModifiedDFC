{
 "cells": [
  {
   "cell_type": "code",
   "execution_count": 1,
   "metadata": {},
   "outputs": [
    {
     "name": "stdout",
     "output_type": "stream",
     "text": [
      "         0    1\n",
      "0      186  204\n",
      "1      186  204\n",
      "2      185  203\n",
      "3      186  204\n",
      "4      186  204\n",
      "...    ...  ...\n",
      "30383  181  180\n",
      "30384  179  180\n",
      "30385  178  180\n",
      "30386  180  179\n",
      "30387  181  180\n",
      "\n",
      "[30388 rows x 2 columns]\n",
      "       0\n",
      "0      0\n",
      "1      0\n",
      "2      0\n",
      "3      0\n",
      "4      0\n",
      "...   ..\n",
      "30383  0\n",
      "30384  0\n",
      "30385  0\n",
      "30386  0\n",
      "30387  0\n",
      "\n",
      "[30388 rows x 1 columns]\n",
      "(24310, 2)\n",
      "(24310, 1)\n"
     ]
    }
   ],
   "source": [
    "import numpy as np\n",
    "import matplotlib\n",
    "import pandas as pd\n",
    "from sklearn.model_selection import train_test_split\n",
    "\n",
    "\n",
    "dataset = pd.read_csv('/Users/eddie/Downloads/METEC Tests - Sheet3.csv')\n",
    "\n",
    "X = pd.DataFrame(dataset.iloc[:,:2].values)\n",
    "Y = pd.DataFrame(dataset.iloc[:,2:].values)\n",
    "print(X)\n",
    "print(Y)\n",
    "X_train, X_test, Y_train, Y_test = train_test_split(X, Y, test_size=0.2, random_state=42)\n",
    "from sklearn.preprocessing import MinMaxScaler\n",
    "scaler = MinMaxScaler()\n",
    "X_train = scaler.fit_transform(X_train)\n",
    "X_test = scaler.transform(X_test)\n",
    "\n",
    "print(X_train.shape)\n",
    "print(Y_train.shape)"
   ]
  },
  {
   "cell_type": "code",
   "execution_count": 2,
   "metadata": {},
   "outputs": [],
   "source": [
    "from sklearn.ensemble import ExtraTreesClassifier\n",
    "from sklearn.ensemble import AdaBoostClassifier\n",
    "from xgboost import XGBClassifier\n",
    "from mondrianforest import MondrianForestClassifier\n",
    "from deepforest import CascadeForestClassifier\n",
    "\n",
    "#load the base DFC model\n",
    "model = CascadeForestClassifier(n_tolerant_rounds=2, max_layers=20)\n",
    "\n",
    "n_estimators = 2  # the number of base estimators per cascade layer\n",
    "estimators = [ExtraTreesClassifier(n_estimators = 107, min_samples_split=7,min_samples_leaf=13,random_state=1),AdaBoostClassifier(n_estimators=90,learning_rate=0.417,random_state=2),XGBClassifier(eta = 1.0, max_depth=11),MondrianForestClassifier(n_tree = 2)]\n",
    "model.set_estimator(estimators)"
   ]
  },
  {
   "cell_type": "code",
   "execution_count": 6,
   "metadata": {},
   "outputs": [
    {
     "name": "stderr",
     "output_type": "stream",
     "text": [
      "c:\\Users\\eddie\\anaconda3\\envs\\ModifiedDFC\\lib\\site-packages\\sklearn\\utils\\validation.py:63: DataConversionWarning: A column-vector y was passed when a 1d array was expected. Please change the shape of y to (n_samples, ), for example using ravel().\n",
      "  return f(*args, **kwargs)\n"
     ]
    },
    {
     "name": "stdout",
     "output_type": "stream",
     "text": [
      "[2025-03-22 22:49:56.669] Start to fit the model:\n",
      "[2025-03-22 22:49:56.669] Fitting cascade layer = 0 \n",
      "[2025-03-22 22:49:57.961] layer = 0  | Val Acc = 91.407 % | Elapsed = 1.292 s\n",
      "[2025-03-22 22:49:57.972] Fitting cascade layer = 1 \n",
      "[2025-03-22 22:50:00.058] layer = 1  | Val Acc = 96.236 % | Elapsed = 2.085 s\n",
      "[2025-03-22 22:50:00.075] Fitting cascade layer = 2 \n",
      "[2025-03-22 22:50:02.001] layer = 2  | Val Acc = 96.557 % | Elapsed = 1.926 s\n",
      "[2025-03-22 22:50:02.018] Fitting cascade layer = 3 \n",
      "[2025-03-22 22:50:03.834] layer = 3  | Val Acc = 96.392 % | Elapsed = 1.816 s\n",
      "[2025-03-22 22:50:03.834] Early stopping counter: 1 out of 2\n",
      "[2025-03-22 22:50:03.851] Fitting cascade layer = 4 \n",
      "[2025-03-22 22:50:05.751] layer = 4  | Val Acc = 96.183 % | Elapsed = 1.900 s\n",
      "[2025-03-22 22:50:05.751] Early stopping counter: 2 out of 2\n",
      "[2025-03-22 22:50:05.751] Handling early stopping\n",
      "[2025-03-22 22:50:05.751] The optimal number of layers: 3\n"
     ]
    }
   ],
   "source": [
    "model.fit(X_train, Y_train)\n",
    "# model.save(\"/Users/eddie/Downloads/ModifiedDFC/T4Weights.pth\")"
   ]
  },
  {
   "cell_type": "code",
   "execution_count": 4,
   "metadata": {},
   "outputs": [
    {
     "name": "stdout",
     "output_type": "stream",
     "text": [
      "[2025-03-22 22:48:34.513] Start to evalute the model:\n",
      "[2025-03-22 22:48:34.513] Evaluating cascade layer = 0 \n"
     ]
    },
    {
     "name": "stderr",
     "output_type": "stream",
     "text": [
      "c:\\Users\\eddie\\anaconda3\\envs\\ModifiedDFC\\lib\\site-packages\\mondrianforest\\classifier.py:76: RuntimeWarning: invalid value encountered in double_scalars\n",
      "  res[label] /= sum_prob\n"
     ]
    },
    {
     "name": "stdout",
     "output_type": "stream",
     "text": [
      "[0 0 1 ... 1 0 0]\n",
      "0.9155972359328727\n",
      "              precision    recall  f1-score   support\n",
      "\n",
      "           0   0.871676  0.995283  0.929387      3392\n",
      "           1   0.992744  0.814966  0.895113      2686\n",
      "\n",
      "    accuracy                       0.915597      6078\n",
      "   macro avg   0.932210  0.905125  0.912250      6078\n",
      "weighted avg   0.925178  0.915597  0.914241      6078\n",
      "\n"
     ]
    }
   ],
   "source": [
    "res = model.predict(X_test)\n",
    "print(res)\n",
    "# print(Y_test)\n",
    "from sklearn.metrics import accuracy_score\n",
    "accuracy = accuracy_score(Y_test,res)\n",
    "print(accuracy)\n",
    "from sklearn.metrics import classification_report\n",
    "print(classification_report(Y_test,res,digits=6))"
   ]
  },
  {
   "cell_type": "code",
   "execution_count": null,
   "metadata": {},
   "outputs": [
    {
     "data": {
      "text/plain": [
       "<sklearn.metrics._plot.confusion_matrix.ConfusionMatrixDisplay at 0x133be679828>"
      ]
     },
     "execution_count": 7,
     "metadata": {},
     "output_type": "execute_result"
    },
    {
     "data": {
      "image/png": "[encoded data removed]",
      "text/plain": [
       "<Figure size 432x288 with 2 Axes>"
      ]
     },
     "metadata": {
      "needs_background": "light"
     },
     "output_type": "display_data"
    }
   ],
   "source": [
    "from sklearn.metrics import confusion_matrix\n",
    "from sklearn.metrics import ConfusionMatrixDisplay\n",
    "# fig, ax = cm_display.subplots(figsize=(10, 10))\n",
    "confusionmatrix = confusion_matrix(Y_test, res)\n",
    "cm_display = ConfusionMatrixDisplay(confusionmatrix)\n",
    "cm_display.plot()"
   ]
  },
  {
   "cell_type": "code",
   "execution_count": 8,
   "metadata": {},
   "outputs": [
    {
     "name": "stdout",
     "output_type": "stream",
     "text": [
      "[2025-03-22 22:51:29.976] Start to evalute the model:\n",
      "[2025-03-22 22:51:29.976] Evaluating cascade layer = 0 \n",
      "[2025-03-22 22:51:30.114] Evaluating cascade layer = 1 \n",
      "[2025-03-22 22:51:30.258] Evaluating cascade layer = 2 \n"
     ]
    }
   ],
   "source": [
    "from tensorflow.keras.models import load_model\n",
    "import time\n",
    "import psutil\n",
    "import matplotlib.image as mpimg\n",
    "from tensorflow.keras.models import load_model\n",
    "# model.load('/Users/eddie/Downloads/ModifiedDFC/T4Weights.pth')\n",
    "\n",
    "def measure_latency_cpu_usage(model, test_inputs):\n",
    "    process = psutil.Process()\n",
    "    cpu_start = process.cpu_percent()\n",
    "    mem_start = process.memory_info()\n",
    "    start = time.time()\n",
    "    predictions = model.predict(X_test)\n",
    "    end = time.time()\n",
    "    cpu_end = process.cpu_percent()\n",
    "    latency = end - start\n",
    "    cpu_usage = cpu_end - cpu_start\n",
    "    memory = process.memory_info()\n",
    "    return latency, cpu_usage, memory.rss/(1024**2)-mem_start.rss/(1024**2)\n",
    "\n",
    "# Example usage:\n",
    "\n",
    "testImagesX = [1000,1000]\n",
    "latency, cpu_usage, memory = measure_latency_cpu_usage(model, testImagesX)"
   ]
  },
  {
   "cell_type": "code",
   "execution_count": 10,
   "metadata": {},
   "outputs": [
    {
     "name": "stdout",
     "output_type": "stream",
     "text": [
      "6.56787091550485e-05 99.8 1.25\n"
     ]
    }
   ],
   "source": [
    "print(latency/6078,cpu_usage,memory)"
   ]
  }
 ],
 "metadata": {
  "kernelspec": {
   "display_name": "ModifiedDFC",
   "language": "python",
   "name": "python3"
  },
  "language_info": {
   "codemirror_mode": {
    "name": "ipython",
    "version": 3
   },
   "file_extension": ".py",
   "mimetype": "text/x-python",
   "name": "python",
   "nbconvert_exporter": "python",
   "pygments_lexer": "ipython3",
   "version": "3.6.13"
  }
 },
 "nbformat": 4,
 "nbformat_minor": 2
}
